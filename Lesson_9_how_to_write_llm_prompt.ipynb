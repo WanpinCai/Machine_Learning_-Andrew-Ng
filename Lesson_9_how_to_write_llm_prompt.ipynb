{
 "cells": [
  {
   "cell_type": "markdown",
   "id": "817221c9",
   "metadata": {},
   "source": [
    "# L9: Building LLM prompts with variables"
   ]
  },
  {
   "cell_type": "markdown",
   "id": "36029c06",
   "metadata": {},
   "source": [
    "In the next cell, you will import the function `print_llm_response` that uses an LLM with an instruction that you provide as a string and displays the result."
   ]
  },
  {
   "cell_type": "code",
   "execution_count": 1,
   "id": "cc237f34",
   "metadata": {
    "height": 30
   },
   "outputs": [],
   "source": [
    "from helper_functions import print_llm_response"
   ]
  },
  {
   "cell_type": "markdown",
   "id": "3074c1f9",
   "metadata": {},
   "source": [
    "Basically, you can use that function as if you were asking a chatbot. You just need to provide your instructions as a string. For instance, you can ask \"What is the capital of France?\" using the following code:"
   ]
  },
  {
   "cell_type": "code",
   "execution_count": 2,
   "id": "afcf6686",
   "metadata": {
    "height": 30
   },
   "outputs": [
    {
     "name": "stdout",
     "output_type": "stream",
     "text": [
      "The capital of France is Paris.\n"
     ]
    }
   ],
   "source": [
    "print_llm_response(\"What is the capital of France?\")"
   ]
  },
  {
   "cell_type": "markdown",
   "id": "7e164d69",
   "metadata": {},
   "source": [
    "Let's ask the LLM for the lifestyle description for Otto Matic, whose name is stored in `name`, if he were a `dog_age` years old dog."
   ]
  },
  {
   "cell_type": "code",
   "execution_count": 3,
   "id": "196644ca",
   "metadata": {
    "height": 47
   },
   "outputs": [],
   "source": [
    "name = \"Otto Matic\"\n",
    "dog_age = 21/7"
   ]
  },
  {
   "cell_type": "code",
   "execution_count": 4,
   "id": "ad18f441",
   "metadata": {
    "height": 64
   },
   "outputs": [
    {
     "name": "stdout",
     "output_type": "stream",
     "text": [
      "At 3.0 years old, Otto Matic would be considered an adult dog. This life stage typically entails high energy levels, a strong interest in play and exercise, and a need for mental stimulation. Adult dogs may exhibit more independence but still require regular exercise, training, and social interaction to stay healthy and happy. They may also display behaviors such as increased confidence, curiosity, and a desire to explore their environment.\n"
     ]
    }
   ],
   "source": [
    "print_llm_response(f\"\"\"If {name} were a dog, he would be {dog_age} years old.\n",
    "Describe what life stage that would be for a dog and what that might \n",
    "entail in terms of energy level, interests, and behavior.\"\"\")"
   ]
  },
  {
   "cell_type": "markdown",
   "id": "8349cb53",
   "metadata": {},
   "source": [
    "<b>You just used AI with your own variables!</b> You used an LLM with instructions that included variables you defined in this notebook.\n",
    "\n",
    "<b>Congratulations 🎉🎉🎉</b>"
   ]
  },
  {
   "cell_type": "markdown",
   "id": "51181411",
   "metadata": {},
   "source": [
    "## Variable names restrictions"
   ]
  },
  {
   "cell_type": "markdown",
   "id": "89d94522",
   "metadata": {},
   "source": [
    "The following variable names also have some problems. Try to fix them yourself or use the help from the chatbot."
   ]
  },
  {
   "cell_type": "code",
   "execution_count": 6,
   "id": "af96e951",
   "metadata": {
    "height": 64
   },
   "outputs": [],
   "source": [
    "driver = \"unicorn\"\n",
    "drivers_vehicle = \"colorful, asymmetric dinosaur car\"\n",
    "favorite_planet = \"Pluto\""
   ]
  },
  {
   "cell_type": "markdown",
   "id": "59a3a881",
   "metadata": {},
   "source": [
    "Now, update the next cell with any changes you made in the previous cell."
   ]
  },
  {
   "cell_type": "code",
   "execution_count": 9,
   "id": "02b7e02c",
   "metadata": {
    "height": 47
   },
   "outputs": [
    {
     "name": "stdout",
     "output_type": "stream",
     "text": [
      "Once upon a time in a magical land far, far away, there was a unicorn named Sparkle and a colorful, asymmetric dinosaur car named Roary. They were both determined to win the prestigious Pluto Champion Cup, the most thrilling and challenging race in the entire universe.\n",
      "\n",
      "On the day of the race, the sun was shining brightly, and the crowd was buzzing with excitement. Sparkle's mane shimmered in the sunlight as she pranced around the starting line, while Roary revved his engine, eager to show off his speed and agility.\n",
      "\n",
      "The race began with a loud roar, and Sparkle and Roary raced neck and neck through the winding tracks of Pluto. Sparkle's hooves galloped gracefully, while Roary's wheels spun furiously, leaving a trail of colorful sparks behind him.\n",
      "\n",
      "As they approached the final stretch, Sparkle and Roary were neck and neck, their eyes locked on the finish line. With a burst of speed, Sparkle surged ahead, her horn glowing brightly as she crossed the finish line first, winning the Pluto Champion Cup.\n",
      "\n",
      "The crowd erupted into cheers and applause as Sparkle was crowned the champion, her victory celebrated by all. Roary, though disappointed, congratulated Sparkle on her win, knowing that she was truly the fastest racer in the universe.\n",
      "\n",
      "And so, Sparkle and Roary became the best of friends, sharing in the thrill of the race and the joy of victory. Together, they proved that with determination, friendship, and a little bit of magic, anything is possible. And they lived happily ever after, racing through the stars and spreading joy wherever they went.\n"
     ]
    }
   ],
   "source": [
    "print_llm_response(f\"\"\"Write me a 300 word children's story about a {driver} racing\n",
    "a {drivers_vehicle} for the {favorite_planet} champion cup.\"\"\")"
   ]
  },
  {
   "cell_type": "markdown",
   "id": "98ec7de7",
   "metadata": {},
   "source": [
    "## Extra practice\n",
    "\n",
    "Try the exercises below to practice the concepts from this lesson. Read the comments in each cell with the instructions for each exercise.\n",
    "\n",
    "<b>Feel free to use the chatbot if you need help.</b>"
   ]
  },
  {
   "cell_type": "code",
   "execution_count": 13,
   "id": "9fb2bd26",
   "metadata": {
    "height": 81
   },
   "outputs": [
    {
     "name": "stdout",
     "output_type": "stream",
     "text": [
      "My most favorite book is 1001 Ways to Wear a Hat, but I also like 2002 Ways to Wear a Scarf\n"
     ]
    }
   ],
   "source": [
    "# Fix this code\n",
    "favorite_book = \"1001 Ways to Wear a Hat\"\n",
    "second_fav_book = \"2002 Ways to Wear a Scarf\" \n",
    "print(f\"My most favorite book is {favorite_book}, but I also like {second_fav_book}\")"
   ]
  },
  {
   "cell_type": "code",
   "execution_count": 14,
   "id": "407023e6",
   "metadata": {
    "height": 132
   },
   "outputs": [
    {
     "name": "stdout",
     "output_type": "stream",
     "text": [
      "After reading \"1001 Ways to Wear a Hat,\" you may feel inspired, creative, and eager to experiment with different hat styles to express your personality and elevate your outfits. The book likely sparks your imagination and encourages you to see hats as versatile accessories that can transform your look effortlessly. You may feel more confident in your fashion choices and excited to incorporate hats into your daily wardrobe.\n",
      "\n",
      "In comparison, \"2002 Ways to Wear a Scarf\" may evoke a similar sense of creativity and inspiration, but with a focus on a different accessory. The feeling of reading this book might be more focused on the versatility and elegance of scarves, prompting you to explore new ways to style them and add a touch of sophistication to your outfits. You may feel a sense of warmth and comfort associated with scarves, as they are not only fashionable but also practical in keeping you cozy during colder seasons. Overall, both books likely leave you feeling motivated to experiment with accessories and elevate your personal style.\n"
     ]
    }
   ],
   "source": [
    "# Make variables for your favorite game, movie, and food.\n",
    "# Then use print_llm_response to ask the LLM to recommend you\n",
    "# a new song to listen to based on your likes.\n",
    "\n",
    "print_llm_response(f\"\"\"write me a 200 words about after I reading \n",
    "{favorite_book} feelings, and compare the feeling of {second_fav_book} \n",
    "\"\"\")"
   ]
  }
 ],
 "metadata": {
  "kernelspec": {
   "display_name": "Python 3 (ipykernel)",
   "language": "python",
   "name": "python3"
  },
  "language_info": {
   "codemirror_mode": {
    "name": "ipython",
    "version": 3
   },
   "file_extension": ".py",
   "mimetype": "text/x-python",
   "name": "python",
   "nbconvert_exporter": "python",
   "pygments_lexer": "ipython3",
   "version": "3.9.19"
  }
 },
 "nbformat": 4,
 "nbformat_minor": 5
}
