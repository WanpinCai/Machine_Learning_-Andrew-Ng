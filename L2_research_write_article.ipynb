{
 "cells": [
  {
   "cell_type": "markdown",
   "metadata": {},
   "source": [
    "You can download the `requirements.txt` for this course from the workspace of this lab. `File --> Open...`"
   ]
  },
  {
   "cell_type": "markdown",
   "metadata": {},
   "source": [
    "# L2: Create Agents to Research and Write an Article\n",
    "\n",
    "In this lesson, you will be introduced to the foundational concepts of multi-agent systems and get an overview of the crewAI framework."
   ]
  },
  {
   "cell_type": "markdown",
   "metadata": {},
   "source": [
    "The libraries are already installed in the classroom. If you're running this notebook on your own machine, you can install the following:\n",
    "```Python\n",
    "!pip install crewai==0.28.8 crewai_tools==0.1.6 langchain_community==0.0.29\n",
    "```"
   ]
  },
  {
   "cell_type": "code",
   "execution_count": 1,
   "metadata": {
    "height": 64
   },
   "outputs": [],
   "source": [
    "# Warning control\n",
    "import warnings\n",
    "warnings.filterwarnings('ignore')"
   ]
  },
  {
   "cell_type": "markdown",
   "metadata": {},
   "source": [
    "- Import from the crewAI libray."
   ]
  },
  {
   "cell_type": "code",
   "execution_count": 2,
   "metadata": {
    "height": 30
   },
   "outputs": [],
   "source": [
    "from crewai import Agent, Task, Crew"
   ]
  },
  {
   "cell_type": "markdown",
   "metadata": {},
   "source": [
    "- As a LLM for your agents, you'll be using OpenAI's `gpt-3.5-turbo`.\n",
    "\n",
    "**Optional Note:** crewAI also allow other popular models to be used as a LLM for your Agents. You can see some of the examples at the [bottom of the notebook](#1)."
   ]
  },
  {
   "cell_type": "code",
   "execution_count": 3,
   "metadata": {
    "height": 98
   },
   "outputs": [],
   "source": [
    "import os\n",
    "from utils import get_openai_api_key\n",
    "\n",
    "openai_api_key = get_openai_api_key()\n",
    "os.environ[\"OPENAI_MODEL_NAME\"] = 'gpt-3.5-turbo'"
   ]
  },
  {
   "cell_type": "markdown",
   "metadata": {},
   "source": [
    "## Creating Agents\n",
    "\n",
    "- Define your Agents, and provide them a `role`, `goal` and `backstory`.\n",
    "- It has been seen that LLMs perform better when they are role playing."
   ]
  },
  {
   "cell_type": "markdown",
   "metadata": {},
   "source": [
    "### Agent: Planner\n",
    "\n",
    "**Note**: The benefit of using _multiple strings_ :\n",
    "```Python\n",
    "varname = \"line 1 of text\"\n",
    "          \"line 2 of text\"\n",
    "```\n",
    "\n",
    "versus the _triple quote docstring_:\n",
    "```Python\n",
    "varname = \"\"\"line 1 of text\n",
    "             line 2 of text\n",
    "          \"\"\"\n",
    "```\n",
    "is that it can avoid adding those whitespaces and newline characters, making it better formatted to be passed to the LLM."
   ]
  },
  {
   "cell_type": "code",
   "execution_count": 4,
   "metadata": {
    "height": 234
   },
   "outputs": [],
   "source": [
    "planner = Agent(\n",
    "    role=\"Content Planner\",\n",
    "    goal=\"Plan engaging and factually accurate content on {topic}\",\n",
    "    backstory=\"You're working on planning a blog article \"\n",
    "              \"about the topic: {topic}.\"\n",
    "              \"You collect information that helps the \"\n",
    "              \"audience learn something \"\n",
    "              \"and make informed decisions. \"\n",
    "              \"Your work is the basis for \"\n",
    "              \"the Content Writer to write an article on this topic.\",\n",
    "    allow_delegation=False,\n",
    "\tverbose=True\n",
    ")"
   ]
  },
  {
   "cell_type": "markdown",
   "metadata": {},
   "source": [
    "### Agent: Writer"
   ]
  },
  {
   "cell_type": "code",
   "execution_count": 5,
   "metadata": {
    "height": 370
   },
   "outputs": [],
   "source": [
    "writer = Agent(\n",
    "    role=\"Content Writer\",\n",
    "    goal=\"Write insightful and factually accurate \"\n",
    "         \"opinion piece about the topic: {topic}\",\n",
    "    backstory=\"You're working on a writing \"\n",
    "              \"a new opinion piece about the topic: {topic}. \"\n",
    "              \"You base your writing on the work of \"\n",
    "              \"the Content Planner, who provides an outline \"\n",
    "              \"and relevant context about the topic. \"\n",
    "              \"You follow the main objectives and \"\n",
    "              \"direction of the outline, \"\n",
    "              \"as provide by the Content Planner. \"\n",
    "              \"You also provide objective and impartial insights \"\n",
    "              \"and back them up with information \"\n",
    "              \"provide by the Content Planner. \"\n",
    "              \"You acknowledge in your opinion piece \"\n",
    "              \"when your statements are opinions \"\n",
    "              \"as opposed to objective statements.\",\n",
    "    allow_delegation=False,\n",
    "    verbose=True\n",
    ")"
   ]
  },
  {
   "cell_type": "markdown",
   "metadata": {},
   "source": [
    "### Agent: Editor"
   ]
  },
  {
   "cell_type": "code",
   "execution_count": 6,
   "metadata": {
    "height": 268
   },
   "outputs": [],
   "source": [
    "editor = Agent(\n",
    "    role=\"Editor\",\n",
    "    goal=\"Edit a given blog post to align with \"\n",
    "         \"the writing style of the organization. \",\n",
    "    backstory=\"You are an editor who receives a blog post \"\n",
    "              \"from the Content Writer. \"\n",
    "              \"Your goal is to review the blog post \"\n",
    "              \"to ensure that it follows journalistic best practices,\"\n",
    "              \"provides balanced viewpoints \"\n",
    "              \"when providing opinions or assertions, \"\n",
    "              \"and also avoids major controversial topics \"\n",
    "              \"or opinions when possible.\",\n",
    "    allow_delegation=False,\n",
    "    verbose=True\n",
    ")"
   ]
  },
  {
   "cell_type": "markdown",
   "metadata": {},
   "source": [
    "## Creating Tasks\n",
    "\n",
    "- Define your Tasks, and provide them a `description`, `expected_output` and `agent`."
   ]
  },
  {
   "cell_type": "markdown",
   "metadata": {},
   "source": [
    "### Task: Plan"
   ]
  },
  {
   "cell_type": "code",
   "execution_count": 7,
   "metadata": {
    "height": 268
   },
   "outputs": [],
   "source": [
    "plan = Task(\n",
    "    description=(\n",
    "        \"1. Prioritize the latest trends, key players, \"\n",
    "            \"and noteworthy news on {topic}.\\n\"\n",
    "        \"2. Identify the target audience, considering \"\n",
    "            \"their interests and pain points.\\n\"\n",
    "        \"3. Develop a detailed content outline including \"\n",
    "            \"an introduction, key points, and a call to action.\\n\"\n",
    "        \"4. Include SEO keywords and relevant data or sources.\"\n",
    "    ),\n",
    "    expected_output=\"A comprehensive content plan document \"\n",
    "        \"with an outline, audience analysis, \"\n",
    "        \"SEO keywords, and resources.\",\n",
    "    agent=planner,\n",
    ")"
   ]
  },
  {
   "cell_type": "markdown",
   "metadata": {},
   "source": [
    "### Task: Write"
   ]
  },
  {
   "cell_type": "code",
   "execution_count": 8,
   "metadata": {
    "height": 319
   },
   "outputs": [],
   "source": [
    "write = Task(\n",
    "    description=(\n",
    "        \"1. Use the content plan to craft a compelling \"\n",
    "            \"blog post on {topic}.\\n\"\n",
    "        \"2. Incorporate SEO keywords naturally.\\n\"\n",
    "\t\t\"3. Sections/Subtitles are properly named \"\n",
    "            \"in an engaging manner.\\n\"\n",
    "        \"4. Ensure the post is structured with an \"\n",
    "            \"engaging introduction, insightful body, \"\n",
    "            \"and a summarizing conclusion.\\n\"\n",
    "        \"5. Proofread for grammatical errors and \"\n",
    "            \"alignment with the brand's voice.\\n\"\n",
    "    ),\n",
    "    expected_output=\"A well-written blog post \"\n",
    "        \"in markdown format, ready for publication, \"\n",
    "        \"each section should have 2 or 3 paragraphs.\",\n",
    "    agent=writer,\n",
    ")"
   ]
  },
  {
   "cell_type": "markdown",
   "metadata": {},
   "source": [
    "### Task: Edit"
   ]
  },
  {
   "cell_type": "code",
   "execution_count": 9,
   "metadata": {
    "height": 166
   },
   "outputs": [],
   "source": [
    "edit = Task(\n",
    "    description=(\"Proofread the given blog post for \"\n",
    "                 \"grammatical errors and \"\n",
    "                 \"alignment with the brand's voice.\"),\n",
    "    expected_output=\"A well-written blog post in markdown format, \"\n",
    "                    \"ready for publication, \"\n",
    "                    \"each section should have 2 or 3 paragraphs.\",\n",
    "    agent=editor\n",
    ")"
   ]
  },
  {
   "cell_type": "markdown",
   "metadata": {},
   "source": [
    "## Creating the Crew\n",
    "\n",
    "- Create your crew of Agents\n",
    "- Pass the tasks to be performed by those agents.\n",
    "    - **Note**: *For this simple example*, the tasks will be performed sequentially (i.e they are dependent on each other), so the _order_ of the task in the list _matters_.\n",
    "- `verbose=2` allows you to see all the logs of the execution. "
   ]
  },
  {
   "cell_type": "code",
   "execution_count": 10,
   "metadata": {
    "height": 98
   },
   "outputs": [],
   "source": [
    "crew = Crew(\n",
    "    agents=[planner, writer, editor],\n",
    "    tasks=[plan, write, edit],\n",
    "    verbose=2\n",
    ")"
   ]
  },
  {
   "cell_type": "markdown",
   "metadata": {},
   "source": [
    "## Running the Crew"
   ]
  },
  {
   "cell_type": "markdown",
   "metadata": {},
   "source": [
    "**Note**: LLMs can provide different outputs for they same input, so what you get might be different than what you see in the video."
   ]
  },
  {
   "cell_type": "code",
   "execution_count": 11,
   "metadata": {
    "height": 30
   },
   "outputs": [
    {
     "name": "stdout",
     "output_type": "stream",
     "text": [
      "\u001b[1m\u001b[95m [DEBUG]: == Working Agent: Content Planner\u001b[00m\n",
      "\u001b[1m\u001b[95m [INFO]: == Starting Task: 1. Prioritize the latest trends, key players, and noteworthy news on Artificial Intelligence.\n",
      "2. Identify the target audience, considering their interests and pain points.\n",
      "3. Develop a detailed content outline including an introduction, key points, and a call to action.\n",
      "4. Include SEO keywords and relevant data or sources.\u001b[00m\n",
      "\n",
      "\n",
      "\u001b[1m> Entering new CrewAgentExecutor chain...\u001b[0m\n",
      "\u001b[32;1m\u001b[1;3mI now can give a great answer\n",
      "\n",
      "Final Answer:\n",
      "\n",
      "Content Plan: \n",
      "Title: The Future of Artificial Intelligence: Trends, Players, and News\n",
      "\n",
      "Audience Analysis:\n",
      "Target Audience: \n",
      "- Tech-savvy individuals interested in the latest advancements in AI\n",
      "- Business professionals looking to integrate AI into their operations\n",
      "- Students and researchers studying AI technology\n",
      "\n",
      "Interests:\n",
      "- Emerging trends in AI such as machine learning, natural language processing, and robotics\n",
      "- Key players in the AI industry like Google, Amazon, and IBM\n",
      "- Noteworthy news on AI breakthroughs, applications, and ethical considerations\n",
      "\n",
      "Pain Points:\n",
      "- Understanding complex AI concepts and applications\n",
      "- Keeping up with the rapidly evolving AI landscape\n",
      "- Identifying reliable sources for AI information\n",
      "\n",
      "Content Outline:\n",
      "1. Introduction\n",
      "- Definition of Artificial Intelligence\n",
      "- Importance of AI in various industries\n",
      "- Preview of key trends, players, and news\n",
      "\n",
      "2. Latest Trends in AI\n",
      "- Machine learning advancements\n",
      "- Ethical considerations in AI development\n",
      "- Integration of AI in healthcare, finance, and other sectors\n",
      "\n",
      "3. Key Players in the AI Industry\n",
      "- Google's AI initiatives\n",
      "- Amazon's AI-powered services\n",
      "- IBM's Watson technology\n",
      "\n",
      "4. Noteworthy News in AI\n",
      "- Breakthroughs in AI research\n",
      "- Applications of AI in real-world scenarios\n",
      "- Ethical implications of AI technology\n",
      "\n",
      "5. Call to Action\n",
      "- Encourage readers to stay informed on AI developments\n",
      "- Provide resources for further learning on AI topics\n",
      "\n",
      "SEO Keywords:\n",
      "- Artificial Intelligence trends\n",
      "- Key players in AI industry\n",
      "- Recent news on Artificial Intelligence\n",
      "- AI technology advancements\n",
      "\n",
      "Resources:\n",
      "1. Forbes - AI News and Insights\n",
      "2. MIT Technology Review - AI and Machine Learning\n",
      "3. TechCrunch - Latest AI Developments\n",
      "4. AI Trends - Industry Reports and Analysis\n",
      "\n",
      "By following this comprehensive content plan, the blog article on Artificial Intelligence will engage the target audience with valuable information, accurate insights, and relevant resources.\u001b[0m\n",
      "\n",
      "\u001b[1m> Finished chain.\u001b[0m\n",
      "\u001b[1m\u001b[92m [DEBUG]: == [Content Planner] Task output: Content Plan: \n",
      "Title: The Future of Artificial Intelligence: Trends, Players, and News\n",
      "\n",
      "Audience Analysis:\n",
      "Target Audience: \n",
      "- Tech-savvy individuals interested in the latest advancements in AI\n",
      "- Business professionals looking to integrate AI into their operations\n",
      "- Students and researchers studying AI technology\n",
      "\n",
      "Interests:\n",
      "- Emerging trends in AI such as machine learning, natural language processing, and robotics\n",
      "- Key players in the AI industry like Google, Amazon, and IBM\n",
      "- Noteworthy news on AI breakthroughs, applications, and ethical considerations\n",
      "\n",
      "Pain Points:\n",
      "- Understanding complex AI concepts and applications\n",
      "- Keeping up with the rapidly evolving AI landscape\n",
      "- Identifying reliable sources for AI information\n",
      "\n",
      "Content Outline:\n",
      "1. Introduction\n",
      "- Definition of Artificial Intelligence\n",
      "- Importance of AI in various industries\n",
      "- Preview of key trends, players, and news\n",
      "\n",
      "2. Latest Trends in AI\n",
      "- Machine learning advancements\n",
      "- Ethical considerations in AI development\n",
      "- Integration of AI in healthcare, finance, and other sectors\n",
      "\n",
      "3. Key Players in the AI Industry\n",
      "- Google's AI initiatives\n",
      "- Amazon's AI-powered services\n",
      "- IBM's Watson technology\n",
      "\n",
      "4. Noteworthy News in AI\n",
      "- Breakthroughs in AI research\n",
      "- Applications of AI in real-world scenarios\n",
      "- Ethical implications of AI technology\n",
      "\n",
      "5. Call to Action\n",
      "- Encourage readers to stay informed on AI developments\n",
      "- Provide resources for further learning on AI topics\n",
      "\n",
      "SEO Keywords:\n",
      "- Artificial Intelligence trends\n",
      "- Key players in AI industry\n",
      "- Recent news on Artificial Intelligence\n",
      "- AI technology advancements\n",
      "\n",
      "Resources:\n",
      "1. Forbes - AI News and Insights\n",
      "2. MIT Technology Review - AI and Machine Learning\n",
      "3. TechCrunch - Latest AI Developments\n",
      "4. AI Trends - Industry Reports and Analysis\n",
      "\n",
      "By following this comprehensive content plan, the blog article on Artificial Intelligence will engage the target audience with valuable information, accurate insights, and relevant resources.\n",
      "\n",
      "\u001b[00m\n",
      "\u001b[1m\u001b[95m [DEBUG]: == Working Agent: Content Writer\u001b[00m\n",
      "\u001b[1m\u001b[95m [INFO]: == Starting Task: 1. Use the content plan to craft a compelling blog post on Artificial Intelligence.\n",
      "2. Incorporate SEO keywords naturally.\n",
      "3. Sections/Subtitles are properly named in an engaging manner.\n",
      "4. Ensure the post is structured with an engaging introduction, insightful body, and a summarizing conclusion.\n",
      "5. Proofread for grammatical errors and alignment with the brand's voice.\n",
      "\u001b[00m\n",
      "\n",
      "\n",
      "\u001b[1m> Entering new CrewAgentExecutor chain...\u001b[0m\n",
      "\u001b[32;1m\u001b[1;3mI have a clear understanding of the content plan and objectives for the blog post on Artificial Intelligence. I am ready to craft a compelling and informative piece that will engage the target audience and provide valuable insights on AI trends, key players, and recent news.\n",
      "\n",
      "Final Answer:\n",
      "\n",
      "# The Future of Artificial Intelligence: Trends, Players, and News\n",
      "\n",
      "## Introduction\n",
      "\n",
      "Artificial Intelligence, often abbreviated as AI, is a rapidly evolving field that encompasses the development of intelligent machines capable of performing tasks that typically require human intelligence. From machine learning algorithms to natural language processing systems, AI has revolutionized various industries, including healthcare, finance, and technology. In this blog post, we will explore the latest trends, key players, and noteworthy news in the world of Artificial Intelligence.\n",
      "\n",
      "## Latest Trends in AI\n",
      "\n",
      "One of the most significant trends in AI is the advancement of machine learning technologies. Machine learning algorithms enable computers to learn from data and make decisions without explicit programming. This technology has been widely adopted in various applications, from predictive analytics to autonomous vehicles.\n",
      "\n",
      "Alongside technological advancements, ethical considerations in AI development have become increasingly crucial. As AI systems become more sophisticated, questions about data privacy, bias in algorithms, and the impact on society arise. It is essential for AI developers and policymakers to address these ethical concerns to ensure the responsible and beneficial use of AI technologies.\n",
      "\n",
      "Moreover, the integration of AI in sectors like healthcare and finance has shown promising results. AI-powered systems can analyze vast amounts of medical data to assist healthcare professionals in diagnosing diseases and developing personalized treatment plans. In finance, AI algorithms are used for fraud detection, risk assessment, and automated trading, enhancing efficiency and accuracy in decision-making processes.\n",
      "\n",
      "## Key Players in the AI Industry\n",
      "\n",
      "Google is a prominent player in the AI industry, with initiatives like Google Brain and DeepMind focusing on advancing AI research and applications. Amazon utilizes AI technology in its services, from personalized recommendations on Amazon.com to voice-controlled virtual assistant Alexa. IBM's Watson technology is renowned for its capabilities in natural language processing, machine learning, and data analytics, powering innovative solutions for businesses and industries.\n",
      "\n",
      "## Noteworthy News in AI\n",
      "\n",
      "Recent breakthroughs in AI research have pushed the boundaries of what AI systems can achieve. From AlphaGo's victory over human champions in the game of Go to OpenAI's language model GPT-3, AI technologies continue to demonstrate remarkable capabilities. In real-world scenarios, AI applications range from autonomous vehicles and virtual assistants to medical imaging and drug discovery, showcasing the transformative potential of AI in various domains.\n",
      "\n",
      "However, along with these advancements, ethical implications of AI technology must be carefully considered. Issues such as algorithmic bias, data privacy, and job displacement require thoughtful analysis and regulation to ensure the responsible development and deployment of AI systems.\n",
      "\n",
      "## Call to Action\n",
      "\n",
      "As AI continues to reshape industries and societies, it is essential for individuals to stay informed on the latest developments and discussions surrounding AI technology. Resources like Forbes, MIT Technology Review, TechCrunch, and AI Trends provide valuable insights, news, and analysis on Artificial Intelligence. By exploring these sources and engaging with AI experts and communities, readers can deepen their understanding of AI trends, key players, and ethical considerations, contributing to the responsible advancement of AI technology.\u001b[0m\n",
      "\n",
      "\u001b[1m> Finished chain.\u001b[0m\n",
      "\u001b[1m\u001b[92m [DEBUG]: == [Content Writer] Task output: # The Future of Artificial Intelligence: Trends, Players, and News\n",
      "\n",
      "## Introduction\n",
      "\n",
      "Artificial Intelligence, often abbreviated as AI, is a rapidly evolving field that encompasses the development of intelligent machines capable of performing tasks that typically require human intelligence. From machine learning algorithms to natural language processing systems, AI has revolutionized various industries, including healthcare, finance, and technology. In this blog post, we will explore the latest trends, key players, and noteworthy news in the world of Artificial Intelligence.\n",
      "\n",
      "## Latest Trends in AI\n",
      "\n",
      "One of the most significant trends in AI is the advancement of machine learning technologies. Machine learning algorithms enable computers to learn from data and make decisions without explicit programming. This technology has been widely adopted in various applications, from predictive analytics to autonomous vehicles.\n",
      "\n",
      "Alongside technological advancements, ethical considerations in AI development have become increasingly crucial. As AI systems become more sophisticated, questions about data privacy, bias in algorithms, and the impact on society arise. It is essential for AI developers and policymakers to address these ethical concerns to ensure the responsible and beneficial use of AI technologies.\n",
      "\n",
      "Moreover, the integration of AI in sectors like healthcare and finance has shown promising results. AI-powered systems can analyze vast amounts of medical data to assist healthcare professionals in diagnosing diseases and developing personalized treatment plans. In finance, AI algorithms are used for fraud detection, risk assessment, and automated trading, enhancing efficiency and accuracy in decision-making processes.\n",
      "\n",
      "## Key Players in the AI Industry\n",
      "\n",
      "Google is a prominent player in the AI industry, with initiatives like Google Brain and DeepMind focusing on advancing AI research and applications. Amazon utilizes AI technology in its services, from personalized recommendations on Amazon.com to voice-controlled virtual assistant Alexa. IBM's Watson technology is renowned for its capabilities in natural language processing, machine learning, and data analytics, powering innovative solutions for businesses and industries.\n",
      "\n",
      "## Noteworthy News in AI\n",
      "\n",
      "Recent breakthroughs in AI research have pushed the boundaries of what AI systems can achieve. From AlphaGo's victory over human champions in the game of Go to OpenAI's language model GPT-3, AI technologies continue to demonstrate remarkable capabilities. In real-world scenarios, AI applications range from autonomous vehicles and virtual assistants to medical imaging and drug discovery, showcasing the transformative potential of AI in various domains.\n",
      "\n",
      "However, along with these advancements, ethical implications of AI technology must be carefully considered. Issues such as algorithmic bias, data privacy, and job displacement require thoughtful analysis and regulation to ensure the responsible development and deployment of AI systems.\n",
      "\n",
      "## Call to Action\n",
      "\n",
      "As AI continues to reshape industries and societies, it is essential for individuals to stay informed on the latest developments and discussions surrounding AI technology. Resources like Forbes, MIT Technology Review, TechCrunch, and AI Trends provide valuable insights, news, and analysis on Artificial Intelligence. By exploring these sources and engaging with AI experts and communities, readers can deepen their understanding of AI trends, key players, and ethical considerations, contributing to the responsible advancement of AI technology.\n",
      "\n",
      "\u001b[00m\n",
      "\u001b[1m\u001b[95m [DEBUG]: == Working Agent: Editor\u001b[00m\n",
      "\u001b[1m\u001b[95m [INFO]: == Starting Task: Proofread the given blog post for grammatical errors and alignment with the brand's voice.\u001b[00m\n",
      "\n",
      "\n",
      "\u001b[1m> Entering new CrewAgentExecutor chain...\u001b[0m\n"
     ]
    },
    {
     "name": "stdout",
     "output_type": "stream",
     "text": [
      "\u001b[32;1m\u001b[1;3mI now can give a great answer\n",
      "\n",
      "Final Answer:\n",
      "# The Future of Artificial Intelligence: Trends, Players, and News\n",
      "\n",
      "## Introduction\n",
      "\n",
      "Artificial Intelligence, or AI, is a rapidly evolving field that focuses on creating intelligent machines capable of performing tasks that traditionally required human intelligence. From machine learning algorithms to natural language processing systems, AI has significantly impacted industries such as healthcare, finance, and technology. In this blog post, we will delve into the latest trends, key players, and notable news in the realm of Artificial Intelligence.\n",
      "\n",
      "## Latest Trends in AI\n",
      "\n",
      "A major trend in AI is the progression of machine learning technologies. These algorithms enable computers to learn from data and make decisions autonomously, without the need for explicit programming. This advancement has been widely adopted across various sectors, from predictive analytics to self-driving vehicles.\n",
      "\n",
      "Ethical considerations have also become a critical aspect of AI development. As AI systems become more sophisticated, concerns regarding data privacy, algorithmic bias, and societal impact have emerged. It is imperative for AI developers and policymakers to address these ethical dilemmas to ensure the responsible and beneficial use of AI technologies.\n",
      "\n",
      "Additionally, the integration of AI in industries like healthcare and finance has shown promising outcomes. AI-powered systems can analyze vast amounts of medical data to aid healthcare professionals in diagnosing illnesses and creating tailored treatment plans. In finance, AI algorithms are utilized for fraud detection, risk assessment, and automated trading, thereby enhancing efficiency and accuracy in decision-making processes.\n",
      "\n",
      "## Key Players in the AI Industry\n",
      "\n",
      "Google stands out as a significant player in the AI industry, with initiatives such as Google Brain and DeepMind dedicated to advancing AI research and applications. Amazon leverages AI technology in its services, offering personalized recommendations on Amazon.com and the voice-controlled virtual assistant Alexa. IBM's Watson technology is renowned for its prowess in natural language processing, machine learning, and data analytics, providing innovative solutions for businesses and various sectors.\n",
      "\n",
      "## Noteworthy News in AI\n",
      "\n",
      "Recent breakthroughs in AI research have expanded the capabilities of AI systems. From AlphaGo's triumph over human champions in the game of Go to OpenAI's language model GPT-3, AI technologies continue to showcase remarkable achievements. In practical applications, AI is utilized in autonomous vehicles, virtual assistants, medical imaging, and drug discovery, highlighting its transformative potential across diverse domains.\n",
      "\n",
      "However, alongside these advancements, it is crucial to consider the ethical implications of AI technology. Issues like algorithmic bias, data privacy, and potential job displacement necessitate careful analysis and regulation to ensure the responsible development and deployment of AI systems.\n",
      "\n",
      "## Call to Action\n",
      "\n",
      "As AI continues to shape industries and societies, staying informed about the latest trends and discussions surrounding AI technology is essential. Resources like Forbes, MIT Technology Review, TechCrunch, and AI Trends offer valuable insights, news, and analysis on Artificial Intelligence. By engaging with these sources and interacting with AI experts and communities, readers can deepen their understanding of AI trends, key players, and ethical considerations, thereby contributing to the responsible advancement of AI technology.\u001b[0m\n",
      "\n",
      "\u001b[1m> Finished chain.\u001b[0m\n",
      "\u001b[1m\u001b[92m [DEBUG]: == [Editor] Task output: # The Future of Artificial Intelligence: Trends, Players, and News\n",
      "\n",
      "## Introduction\n",
      "\n",
      "Artificial Intelligence, or AI, is a rapidly evolving field that focuses on creating intelligent machines capable of performing tasks that traditionally required human intelligence. From machine learning algorithms to natural language processing systems, AI has significantly impacted industries such as healthcare, finance, and technology. In this blog post, we will delve into the latest trends, key players, and notable news in the realm of Artificial Intelligence.\n",
      "\n",
      "## Latest Trends in AI\n",
      "\n",
      "A major trend in AI is the progression of machine learning technologies. These algorithms enable computers to learn from data and make decisions autonomously, without the need for explicit programming. This advancement has been widely adopted across various sectors, from predictive analytics to self-driving vehicles.\n",
      "\n",
      "Ethical considerations have also become a critical aspect of AI development. As AI systems become more sophisticated, concerns regarding data privacy, algorithmic bias, and societal impact have emerged. It is imperative for AI developers and policymakers to address these ethical dilemmas to ensure the responsible and beneficial use of AI technologies.\n",
      "\n",
      "Additionally, the integration of AI in industries like healthcare and finance has shown promising outcomes. AI-powered systems can analyze vast amounts of medical data to aid healthcare professionals in diagnosing illnesses and creating tailored treatment plans. In finance, AI algorithms are utilized for fraud detection, risk assessment, and automated trading, thereby enhancing efficiency and accuracy in decision-making processes.\n",
      "\n",
      "## Key Players in the AI Industry\n",
      "\n",
      "Google stands out as a significant player in the AI industry, with initiatives such as Google Brain and DeepMind dedicated to advancing AI research and applications. Amazon leverages AI technology in its services, offering personalized recommendations on Amazon.com and the voice-controlled virtual assistant Alexa. IBM's Watson technology is renowned for its prowess in natural language processing, machine learning, and data analytics, providing innovative solutions for businesses and various sectors.\n",
      "\n",
      "## Noteworthy News in AI\n",
      "\n",
      "Recent breakthroughs in AI research have expanded the capabilities of AI systems. From AlphaGo's triumph over human champions in the game of Go to OpenAI's language model GPT-3, AI technologies continue to showcase remarkable achievements. In practical applications, AI is utilized in autonomous vehicles, virtual assistants, medical imaging, and drug discovery, highlighting its transformative potential across diverse domains.\n",
      "\n",
      "However, alongside these advancements, it is crucial to consider the ethical implications of AI technology. Issues like algorithmic bias, data privacy, and potential job displacement necessitate careful analysis and regulation to ensure the responsible development and deployment of AI systems.\n",
      "\n",
      "## Call to Action\n",
      "\n",
      "As AI continues to shape industries and societies, staying informed about the latest trends and discussions surrounding AI technology is essential. Resources like Forbes, MIT Technology Review, TechCrunch, and AI Trends offer valuable insights, news, and analysis on Artificial Intelligence. By engaging with these sources and interacting with AI experts and communities, readers can deepen their understanding of AI trends, key players, and ethical considerations, thereby contributing to the responsible advancement of AI technology.\n",
      "\n",
      "\u001b[00m\n"
     ]
    }
   ],
   "source": [
    "result = crew.kickoff(inputs={\"topic\": \"Artificial Intelligence\"})"
   ]
  },
  {
   "cell_type": "markdown",
   "metadata": {},
   "source": [
    "- Display the results of your execution as markdown in the notebook."
   ]
  },
  {
   "cell_type": "code",
   "execution_count": 12,
   "metadata": {
    "height": 47
   },
   "outputs": [
    {
     "data": {
      "text/markdown": [
       "# The Future of Artificial Intelligence: Trends, Players, and News\n",
       "\n",
       "## Introduction\n",
       "\n",
       "Artificial Intelligence, or AI, is a rapidly evolving field that focuses on creating intelligent machines capable of performing tasks that traditionally required human intelligence. From machine learning algorithms to natural language processing systems, AI has significantly impacted industries such as healthcare, finance, and technology. In this blog post, we will delve into the latest trends, key players, and notable news in the realm of Artificial Intelligence.\n",
       "\n",
       "## Latest Trends in AI\n",
       "\n",
       "A major trend in AI is the progression of machine learning technologies. These algorithms enable computers to learn from data and make decisions autonomously, without the need for explicit programming. This advancement has been widely adopted across various sectors, from predictive analytics to self-driving vehicles.\n",
       "\n",
       "Ethical considerations have also become a critical aspect of AI development. As AI systems become more sophisticated, concerns regarding data privacy, algorithmic bias, and societal impact have emerged. It is imperative for AI developers and policymakers to address these ethical dilemmas to ensure the responsible and beneficial use of AI technologies.\n",
       "\n",
       "Additionally, the integration of AI in industries like healthcare and finance has shown promising outcomes. AI-powered systems can analyze vast amounts of medical data to aid healthcare professionals in diagnosing illnesses and creating tailored treatment plans. In finance, AI algorithms are utilized for fraud detection, risk assessment, and automated trading, thereby enhancing efficiency and accuracy in decision-making processes.\n",
       "\n",
       "## Key Players in the AI Industry\n",
       "\n",
       "Google stands out as a significant player in the AI industry, with initiatives such as Google Brain and DeepMind dedicated to advancing AI research and applications. Amazon leverages AI technology in its services, offering personalized recommendations on Amazon.com and the voice-controlled virtual assistant Alexa. IBM's Watson technology is renowned for its prowess in natural language processing, machine learning, and data analytics, providing innovative solutions for businesses and various sectors.\n",
       "\n",
       "## Noteworthy News in AI\n",
       "\n",
       "Recent breakthroughs in AI research have expanded the capabilities of AI systems. From AlphaGo's triumph over human champions in the game of Go to OpenAI's language model GPT-3, AI technologies continue to showcase remarkable achievements. In practical applications, AI is utilized in autonomous vehicles, virtual assistants, medical imaging, and drug discovery, highlighting its transformative potential across diverse domains.\n",
       "\n",
       "However, alongside these advancements, it is crucial to consider the ethical implications of AI technology. Issues like algorithmic bias, data privacy, and potential job displacement necessitate careful analysis and regulation to ensure the responsible development and deployment of AI systems.\n",
       "\n",
       "## Call to Action\n",
       "\n",
       "As AI continues to shape industries and societies, staying informed about the latest trends and discussions surrounding AI technology is essential. Resources like Forbes, MIT Technology Review, TechCrunch, and AI Trends offer valuable insights, news, and analysis on Artificial Intelligence. By engaging with these sources and interacting with AI experts and communities, readers can deepen their understanding of AI trends, key players, and ethical considerations, thereby contributing to the responsible advancement of AI technology."
      ],
      "text/plain": [
       "<IPython.core.display.Markdown object>"
      ]
     },
     "execution_count": 12,
     "metadata": {},
     "output_type": "execute_result"
    }
   ],
   "source": [
    "from IPython.display import Markdown\n",
    "Markdown(result)"
   ]
  },
  {
   "cell_type": "markdown",
   "metadata": {},
   "source": [
    "## Try it Yourself\n",
    "\n",
    "- Pass in a topic of your choice and see what the agents come up with!"
   ]
  },
  {
   "cell_type": "code",
   "execution_count": 13,
   "metadata": {
    "height": 47
   },
   "outputs": [
    {
     "name": "stdout",
     "output_type": "stream",
     "text": [
      "\u001b[1m\u001b[95m [DEBUG]: == Working Agent: Content Planner\u001b[00m\n",
      "\u001b[1m\u001b[95m [INFO]: == Starting Task: 1. Prioritize the latest trends, key players, and noteworthy news on YOUR TOPIC HERE.\n",
      "2. Identify the target audience, considering their interests and pain points.\n",
      "3. Develop a detailed content outline including an introduction, key points, and a call to action.\n",
      "4. Include SEO keywords and relevant data or sources.\u001b[00m\n",
      "\n",
      "\n",
      "\u001b[1m> Entering new CrewAgentExecutor chain...\u001b[0m\n",
      "\u001b[32;1m\u001b[1;3mI now can give a great answer\n",
      "\n",
      "Final Answer: \n",
      "\n",
      "Content Plan: \n",
      "Title: Uncovering the Latest Trends in Sustainable Fashion\n",
      "\n",
      "Introduction:\n",
      "- Brief overview of sustainable fashion and its importance in the fashion industry\n",
      "- Mention of the growing consumer interest in eco-friendly and ethical fashion choices\n",
      "\n",
      "Key Points:\n",
      "1. Latest Trends in Sustainable Fashion\n",
      "- Introduction of innovative sustainable materials such as Tencel, Piñatex, and recycled polyester\n",
      "- Rise of circular fashion practices like clothing rental, second-hand shopping, and clothing swaps\n",
      "- Emphasis on transparency and traceability in supply chains to ensure ethical practices\n",
      "\n",
      "2. Key Players in the Sustainable Fashion Industry\n",
      "- Profiles of leading sustainable fashion brands like Patagonia, Eileen Fisher, and Stella McCartney\n",
      "- Highlighting the efforts of major retailers like H&M and Zara in incorporating sustainable practices into their collections\n",
      "- Mention of sustainable fashion influencers and activists driving awareness and change in the industry\n",
      "\n",
      "3. Noteworthy News in Sustainable Fashion\n",
      "- Recap of recent collaborations and initiatives promoting sustainability in fashion\n",
      "- Updates on legislative changes impacting the fashion industry's environmental footprint\n",
      "- Case studies showcasing successful sustainable fashion campaigns and product launches\n",
      "\n",
      "Audience Analysis:\n",
      "Target Audience: \n",
      "- Millennials and Gen Z consumers interested in eco-conscious lifestyle choices\n",
      "- Fashion enthusiasts looking to make more sustainable purchasing decisions\n",
      "- Environmental activists and conscious consumers seeking information on sustainable fashion options\n",
      "\n",
      "Interests:\n",
      "- Trends in sustainable fashion and innovative eco-friendly materials\n",
      "- Ethical practices and transparency in fashion supply chains\n",
      "- Impact of fashion industry on the environment and society\n",
      "\n",
      "Pain Points:\n",
      "- Lack of information on sustainable fashion options and brands\n",
      "- Difficulty in finding stylish and affordable sustainable clothing alternatives\n",
      "- Concerns about the environmental and social impact of fast fashion\n",
      "\n",
      "SEO Keywords:\n",
      "- Sustainable fashion trends\n",
      "- Eco-friendly materials in fashion\n",
      "- Ethical fashion brands\n",
      "- Circular fashion practices\n",
      "- Sustainable fashion news\n",
      "\n",
      "Resources:\n",
      "1. Fashion Revolution - https://www.fashionrevolution.org/\n",
      "2. Sustainable Apparel Coalition - https://apparelcoalition.org/\n",
      "3. Good On You - https://goodonyou.eco/\n",
      "4. The True Cost documentary - https://truecostmovie.com/\n",
      "\n",
      "This comprehensive content plan outlines the latest trends, key players, and noteworthy news in sustainable fashion for the target audience of environmentally conscious consumers and fashion enthusiasts. By incorporating SEO keywords and relevant resources, the blog article will provide valuable information and insights for readers interested in making informed decisions about their fashion choices.\u001b[0m\n",
      "\n",
      "\u001b[1m> Finished chain.\u001b[0m\n",
      "\u001b[1m\u001b[92m [DEBUG]: == [Content Planner] Task output: Content Plan: \n",
      "Title: Uncovering the Latest Trends in Sustainable Fashion\n",
      "\n",
      "Introduction:\n",
      "- Brief overview of sustainable fashion and its importance in the fashion industry\n",
      "- Mention of the growing consumer interest in eco-friendly and ethical fashion choices\n",
      "\n",
      "Key Points:\n",
      "1. Latest Trends in Sustainable Fashion\n",
      "- Introduction of innovative sustainable materials such as Tencel, Piñatex, and recycled polyester\n",
      "- Rise of circular fashion practices like clothing rental, second-hand shopping, and clothing swaps\n",
      "- Emphasis on transparency and traceability in supply chains to ensure ethical practices\n",
      "\n",
      "2. Key Players in the Sustainable Fashion Industry\n",
      "- Profiles of leading sustainable fashion brands like Patagonia, Eileen Fisher, and Stella McCartney\n",
      "- Highlighting the efforts of major retailers like H&M and Zara in incorporating sustainable practices into their collections\n",
      "- Mention of sustainable fashion influencers and activists driving awareness and change in the industry\n",
      "\n",
      "3. Noteworthy News in Sustainable Fashion\n",
      "- Recap of recent collaborations and initiatives promoting sustainability in fashion\n",
      "- Updates on legislative changes impacting the fashion industry's environmental footprint\n",
      "- Case studies showcasing successful sustainable fashion campaigns and product launches\n",
      "\n",
      "Audience Analysis:\n",
      "Target Audience: \n",
      "- Millennials and Gen Z consumers interested in eco-conscious lifestyle choices\n",
      "- Fashion enthusiasts looking to make more sustainable purchasing decisions\n",
      "- Environmental activists and conscious consumers seeking information on sustainable fashion options\n",
      "\n",
      "Interests:\n",
      "- Trends in sustainable fashion and innovative eco-friendly materials\n",
      "- Ethical practices and transparency in fashion supply chains\n",
      "- Impact of fashion industry on the environment and society\n",
      "\n",
      "Pain Points:\n",
      "- Lack of information on sustainable fashion options and brands\n",
      "- Difficulty in finding stylish and affordable sustainable clothing alternatives\n",
      "- Concerns about the environmental and social impact of fast fashion\n",
      "\n",
      "SEO Keywords:\n",
      "- Sustainable fashion trends\n",
      "- Eco-friendly materials in fashion\n",
      "- Ethical fashion brands\n",
      "- Circular fashion practices\n",
      "- Sustainable fashion news\n",
      "\n",
      "Resources:\n",
      "1. Fashion Revolution - https://www.fashionrevolution.org/\n",
      "2. Sustainable Apparel Coalition - https://apparelcoalition.org/\n",
      "3. Good On You - https://goodonyou.eco/\n",
      "4. The True Cost documentary - https://truecostmovie.com/\n",
      "\n",
      "This comprehensive content plan outlines the latest trends, key players, and noteworthy news in sustainable fashion for the target audience of environmentally conscious consumers and fashion enthusiasts. By incorporating SEO keywords and relevant resources, the blog article will provide valuable information and insights for readers interested in making informed decisions about their fashion choices.\n",
      "\n",
      "\u001b[00m\n",
      "\u001b[1m\u001b[95m [DEBUG]: == Working Agent: Content Writer\u001b[00m\n",
      "\u001b[1m\u001b[95m [INFO]: == Starting Task: 1. Use the content plan to craft a compelling blog post on YOUR TOPIC HERE.\n",
      "2. Incorporate SEO keywords naturally.\n",
      "3. Sections/Subtitles are properly named in an engaging manner.\n",
      "4. Ensure the post is structured with an engaging introduction, insightful body, and a summarizing conclusion.\n",
      "5. Proofread for grammatical errors and alignment with the brand's voice.\n",
      "\u001b[00m\n",
      "\n",
      "\n",
      "\u001b[1m> Entering new CrewAgentExecutor chain...\u001b[0m\n",
      "\u001b[32;1m\u001b[1;3mI now can give a great answer\n",
      "\n",
      "Final Answer:\n",
      "\n",
      "# Uncovering the Latest Trends in Sustainable Fashion\n",
      "\n",
      "## Introduction\n",
      "Sustainable fashion is a growing movement within the fashion industry that prioritizes eco-friendly and ethical practices. With an increasing awareness of the environmental and social impact of fast fashion, consumers are seeking out sustainable alternatives. This shift in consumer mindset has led to a rise in demand for clothing made from innovative materials and produced through transparent and ethical supply chains.\n",
      "\n",
      "## Latest Trends in Sustainable Fashion\n",
      "One of the key trends in sustainable fashion is the use of innovative materials such as Tencel, Piñatex, and recycled polyester. These materials offer eco-friendly alternatives to traditional fabrics, reducing the environmental footprint of clothing production. Additionally, circular fashion practices like clothing rental, second-hand shopping, and clothing swaps are gaining popularity as consumers look for ways to extend the lifecycle of their clothing and reduce waste. The emphasis on transparency and traceability in supply chains is also crucial in ensuring that ethical practices are being followed throughout the production process.\n",
      "\n",
      "## Key Players in the Sustainable Fashion Industry\n",
      "Leading sustainable fashion brands like Patagonia, Eileen Fisher, and Stella McCartney are paving the way for more sustainable practices in the industry. These brands prioritize eco-friendly materials and transparent supply chains, setting an example for others to follow. Major retailers like H&M and Zara are also making efforts to incorporate sustainable practices into their collections, showing that sustainability can be achievable on a larger scale. Sustainable fashion influencers and activists play a significant role in driving awareness and change in the industry, using their platforms to promote ethical and eco-friendly fashion choices.\n",
      "\n",
      "## Noteworthy News in Sustainable Fashion\n",
      "Recent collaborations and initiatives in the fashion industry are promoting sustainability and driving positive change. Legislative changes are also impacting the environmental footprint of the fashion industry, pushing for more sustainable practices. Successful sustainable fashion campaigns and product launches serve as case studies for how brands can make a difference in the industry. Stay updated on these developments to stay informed about the latest trends and news in sustainable fashion.\n",
      "\n",
      "In conclusion, sustainable fashion is not just a trend, but a necessary shift towards more responsible and ethical practices in the fashion industry. By staying informed about the latest trends, key players, and noteworthy news in sustainable fashion, consumers can make more conscious purchasing decisions and support brands that align with their values. Let's continue to push for a more sustainable and transparent fashion industry for the benefit of our planet and future generations.\u001b[0m\n",
      "\n",
      "\u001b[1m> Finished chain.\u001b[0m\n",
      "\u001b[1m\u001b[92m [DEBUG]: == [Content Writer] Task output: # Uncovering the Latest Trends in Sustainable Fashion\n",
      "\n",
      "## Introduction\n",
      "Sustainable fashion is a growing movement within the fashion industry that prioritizes eco-friendly and ethical practices. With an increasing awareness of the environmental and social impact of fast fashion, consumers are seeking out sustainable alternatives. This shift in consumer mindset has led to a rise in demand for clothing made from innovative materials and produced through transparent and ethical supply chains.\n",
      "\n",
      "## Latest Trends in Sustainable Fashion\n",
      "One of the key trends in sustainable fashion is the use of innovative materials such as Tencel, Piñatex, and recycled polyester. These materials offer eco-friendly alternatives to traditional fabrics, reducing the environmental footprint of clothing production. Additionally, circular fashion practices like clothing rental, second-hand shopping, and clothing swaps are gaining popularity as consumers look for ways to extend the lifecycle of their clothing and reduce waste. The emphasis on transparency and traceability in supply chains is also crucial in ensuring that ethical practices are being followed throughout the production process.\n",
      "\n",
      "## Key Players in the Sustainable Fashion Industry\n",
      "Leading sustainable fashion brands like Patagonia, Eileen Fisher, and Stella McCartney are paving the way for more sustainable practices in the industry. These brands prioritize eco-friendly materials and transparent supply chains, setting an example for others to follow. Major retailers like H&M and Zara are also making efforts to incorporate sustainable practices into their collections, showing that sustainability can be achievable on a larger scale. Sustainable fashion influencers and activists play a significant role in driving awareness and change in the industry, using their platforms to promote ethical and eco-friendly fashion choices.\n",
      "\n",
      "## Noteworthy News in Sustainable Fashion\n",
      "Recent collaborations and initiatives in the fashion industry are promoting sustainability and driving positive change. Legislative changes are also impacting the environmental footprint of the fashion industry, pushing for more sustainable practices. Successful sustainable fashion campaigns and product launches serve as case studies for how brands can make a difference in the industry. Stay updated on these developments to stay informed about the latest trends and news in sustainable fashion.\n",
      "\n",
      "In conclusion, sustainable fashion is not just a trend, but a necessary shift towards more responsible and ethical practices in the fashion industry. By staying informed about the latest trends, key players, and noteworthy news in sustainable fashion, consumers can make more conscious purchasing decisions and support brands that align with their values. Let's continue to push for a more sustainable and transparent fashion industry for the benefit of our planet and future generations.\n",
      "\n",
      "\u001b[00m\n",
      "\u001b[1m\u001b[95m [DEBUG]: == Working Agent: Editor\u001b[00m\n",
      "\u001b[1m\u001b[95m [INFO]: == Starting Task: Proofread the given blog post for grammatical errors and alignment with the brand's voice.\u001b[00m\n",
      "\n",
      "\n",
      "\u001b[1m> Entering new CrewAgentExecutor chain...\u001b[0m\n"
     ]
    },
    {
     "name": "stdout",
     "output_type": "stream",
     "text": [
      "\u001b[32;1m\u001b[1;3mI now can give a great answer\n",
      "\n",
      "Final Answer:\n",
      "# Uncovering the Latest Trends in Sustainable Fashion\n",
      "\n",
      "## Introduction\n",
      "Sustainable fashion is a growing movement within the fashion industry that prioritizes eco-friendly and ethical practices. With an increasing awareness of the environmental and social impact of fast fashion, consumers are seeking out sustainable alternatives. This shift in consumer mindset has led to a rise in demand for clothing made from innovative materials and produced through transparent and ethical supply chains.\n",
      "\n",
      "## Latest Trends in Sustainable Fashion\n",
      "One of the key trends in sustainable fashion is the use of innovative materials such as Tencel, Piñatex, and recycled polyester. These materials offer eco-friendly alternatives to traditional fabrics, reducing the environmental footprint of clothing production. Additionally, circular fashion practices like clothing rental, second-hand shopping, and clothing swaps are gaining popularity as consumers look for ways to extend the lifecycle of their clothing and reduce waste. The emphasis on transparency and traceability in supply chains is also crucial in ensuring that ethical practices are being followed throughout the production process.\n",
      "\n",
      "## Key Players in the Sustainable Fashion Industry\n",
      "Leading sustainable fashion brands like Patagonia, Eileen Fisher, and Stella McCartney are paving the way for more sustainable practices in the industry. These brands prioritize eco-friendly materials and transparent supply chains, setting an example for others to follow. Major retailers like H&M and Zara are also making efforts to incorporate sustainable practices into their collections, showing that sustainability can be achievable on a larger scale. Sustainable fashion influencers and activists play a significant role in driving awareness and change in the industry, using their platforms to promote ethical and eco-friendly fashion choices.\n",
      "\n",
      "## Noteworthy News in Sustainable Fashion\n",
      "Recent collaborations and initiatives in the fashion industry are promoting sustainability and driving positive change. Legislative changes are also impacting the environmental footprint of the fashion industry, pushing for more sustainable practices. Successful sustainable fashion campaigns and product launches serve as case studies for how brands can make a difference in the industry. Stay updated on these developments to stay informed about the latest trends and news in sustainable fashion.\n",
      "\n",
      "In conclusion, sustainable fashion is not just a trend, but a necessary shift towards more responsible and ethical practices in the fashion industry. By staying informed about the latest trends, key players, and noteworthy news in sustainable fashion, consumers can make more conscious purchasing decisions and support brands that align with their values. Let's continue to push for a more sustainable and transparent fashion industry for the benefit of our planet and future generations.\u001b[0m\n",
      "\n",
      "\u001b[1m> Finished chain.\u001b[0m\n",
      "\u001b[1m\u001b[92m [DEBUG]: == [Editor] Task output: # Uncovering the Latest Trends in Sustainable Fashion\n",
      "\n",
      "## Introduction\n",
      "Sustainable fashion is a growing movement within the fashion industry that prioritizes eco-friendly and ethical practices. With an increasing awareness of the environmental and social impact of fast fashion, consumers are seeking out sustainable alternatives. This shift in consumer mindset has led to a rise in demand for clothing made from innovative materials and produced through transparent and ethical supply chains.\n",
      "\n",
      "## Latest Trends in Sustainable Fashion\n",
      "One of the key trends in sustainable fashion is the use of innovative materials such as Tencel, Piñatex, and recycled polyester. These materials offer eco-friendly alternatives to traditional fabrics, reducing the environmental footprint of clothing production. Additionally, circular fashion practices like clothing rental, second-hand shopping, and clothing swaps are gaining popularity as consumers look for ways to extend the lifecycle of their clothing and reduce waste. The emphasis on transparency and traceability in supply chains is also crucial in ensuring that ethical practices are being followed throughout the production process.\n",
      "\n",
      "## Key Players in the Sustainable Fashion Industry\n",
      "Leading sustainable fashion brands like Patagonia, Eileen Fisher, and Stella McCartney are paving the way for more sustainable practices in the industry. These brands prioritize eco-friendly materials and transparent supply chains, setting an example for others to follow. Major retailers like H&M and Zara are also making efforts to incorporate sustainable practices into their collections, showing that sustainability can be achievable on a larger scale. Sustainable fashion influencers and activists play a significant role in driving awareness and change in the industry, using their platforms to promote ethical and eco-friendly fashion choices.\n",
      "\n",
      "## Noteworthy News in Sustainable Fashion\n",
      "Recent collaborations and initiatives in the fashion industry are promoting sustainability and driving positive change. Legislative changes are also impacting the environmental footprint of the fashion industry, pushing for more sustainable practices. Successful sustainable fashion campaigns and product launches serve as case studies for how brands can make a difference in the industry. Stay updated on these developments to stay informed about the latest trends and news in sustainable fashion.\n",
      "\n",
      "In conclusion, sustainable fashion is not just a trend, but a necessary shift towards more responsible and ethical practices in the fashion industry. By staying informed about the latest trends, key players, and noteworthy news in sustainable fashion, consumers can make more conscious purchasing decisions and support brands that align with their values. Let's continue to push for a more sustainable and transparent fashion industry for the benefit of our planet and future generations.\n",
      "\n",
      "\u001b[00m\n"
     ]
    }
   ],
   "source": [
    "topic = \"YOUR TOPIC HERE\"\n",
    "result = crew.kickoff(inputs={\"topic\": topic})"
   ]
  },
  {
   "cell_type": "code",
   "execution_count": 14,
   "metadata": {
    "height": 30
   },
   "outputs": [
    {
     "data": {
      "text/markdown": [
       "# Uncovering the Latest Trends in Sustainable Fashion\n",
       "\n",
       "## Introduction\n",
       "Sustainable fashion is a growing movement within the fashion industry that prioritizes eco-friendly and ethical practices. With an increasing awareness of the environmental and social impact of fast fashion, consumers are seeking out sustainable alternatives. This shift in consumer mindset has led to a rise in demand for clothing made from innovative materials and produced through transparent and ethical supply chains.\n",
       "\n",
       "## Latest Trends in Sustainable Fashion\n",
       "One of the key trends in sustainable fashion is the use of innovative materials such as Tencel, Piñatex, and recycled polyester. These materials offer eco-friendly alternatives to traditional fabrics, reducing the environmental footprint of clothing production. Additionally, circular fashion practices like clothing rental, second-hand shopping, and clothing swaps are gaining popularity as consumers look for ways to extend the lifecycle of their clothing and reduce waste. The emphasis on transparency and traceability in supply chains is also crucial in ensuring that ethical practices are being followed throughout the production process.\n",
       "\n",
       "## Key Players in the Sustainable Fashion Industry\n",
       "Leading sustainable fashion brands like Patagonia, Eileen Fisher, and Stella McCartney are paving the way for more sustainable practices in the industry. These brands prioritize eco-friendly materials and transparent supply chains, setting an example for others to follow. Major retailers like H&M and Zara are also making efforts to incorporate sustainable practices into their collections, showing that sustainability can be achievable on a larger scale. Sustainable fashion influencers and activists play a significant role in driving awareness and change in the industry, using their platforms to promote ethical and eco-friendly fashion choices.\n",
       "\n",
       "## Noteworthy News in Sustainable Fashion\n",
       "Recent collaborations and initiatives in the fashion industry are promoting sustainability and driving positive change. Legislative changes are also impacting the environmental footprint of the fashion industry, pushing for more sustainable practices. Successful sustainable fashion campaigns and product launches serve as case studies for how brands can make a difference in the industry. Stay updated on these developments to stay informed about the latest trends and news in sustainable fashion.\n",
       "\n",
       "In conclusion, sustainable fashion is not just a trend, but a necessary shift towards more responsible and ethical practices in the fashion industry. By staying informed about the latest trends, key players, and noteworthy news in sustainable fashion, consumers can make more conscious purchasing decisions and support brands that align with their values. Let's continue to push for a more sustainable and transparent fashion industry for the benefit of our planet and future generations."
      ],
      "text/plain": [
       "<IPython.core.display.Markdown object>"
      ]
     },
     "execution_count": 14,
     "metadata": {},
     "output_type": "execute_result"
    }
   ],
   "source": [
    "Markdown(result)"
   ]
  },
  {
   "cell_type": "markdown",
   "metadata": {},
   "source": [
    "<a name='1'></a>\n",
    " ## Other Popular Models as LLM for your Agents"
   ]
  },
  {
   "cell_type": "markdown",
   "metadata": {},
   "source": [
    "#### Hugging Face (HuggingFaceHub endpoint)\n",
    "\n",
    "```Python\n",
    "from langchain_community.llms import HuggingFaceHub\n",
    "\n",
    "llm = HuggingFaceHub(\n",
    "    repo_id=\"HuggingFaceH4/zephyr-7b-beta\",\n",
    "    huggingfacehub_api_token=\"<HF_TOKEN_HERE>\",\n",
    "    task=\"text-generation\",\n",
    ")\n",
    "\n",
    "### you will pass \"llm\" to your agent function\n",
    "```"
   ]
  },
  {
   "cell_type": "markdown",
   "metadata": {},
   "source": [
    "#### Mistral API\n",
    "\n",
    "```Python\n",
    "OPENAI_API_KEY=your-mistral-api-key\n",
    "OPENAI_API_BASE=https://api.mistral.ai/v1\n",
    "OPENAI_MODEL_NAME=\"mistral-small\"\n",
    "```"
   ]
  },
  {
   "cell_type": "markdown",
   "metadata": {},
   "source": [
    "#### Cohere\n",
    "\n",
    "```Python\n",
    "from langchain_community.chat_models import ChatCohere\n",
    "# Initialize language model\n",
    "os.environ[\"COHERE_API_KEY\"] = \"your-cohere-api-key\"\n",
    "llm = ChatCohere()\n",
    "\n",
    "### you will pass \"llm\" to your agent function\n",
    "```"
   ]
  },
  {
   "cell_type": "markdown",
   "metadata": {},
   "source": [
    "### For using Llama locally with Ollama and more, checkout the crewAI documentation on [Connecting to any LLM](https://docs.crewai.com/how-to/LLM-Connections/)."
   ]
  },
  {
   "cell_type": "code",
   "execution_count": null,
   "metadata": {
    "height": 30
   },
   "outputs": [],
   "source": []
  },
  {
   "cell_type": "code",
   "execution_count": null,
   "metadata": {
    "height": 30
   },
   "outputs": [],
   "source": []
  },
  {
   "cell_type": "code",
   "execution_count": null,
   "metadata": {
    "height": 30
   },
   "outputs": [],
   "source": []
  }
 ],
 "metadata": {
  "colab": {
   "gpuType": "T4",
   "provenance": []
  },
  "kernelspec": {
   "display_name": "Python 3 (ipykernel)",
   "language": "python",
   "name": "python3"
  },
  "language_info": {
   "codemirror_mode": {
    "name": "ipython",
    "version": 3
   },
   "file_extension": ".py",
   "mimetype": "text/x-python",
   "name": "python",
   "nbconvert_exporter": "python",
   "pygments_lexer": "ipython3",
   "version": "3.11.9"
  }
 },
 "nbformat": 4,
 "nbformat_minor": 4
}
